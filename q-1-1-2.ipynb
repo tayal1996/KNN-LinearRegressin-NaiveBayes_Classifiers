{
 "cells": [
  {
   "cell_type": "code",
   "execution_count": 5,
   "metadata": {},
   "outputs": [
    {
     "name": "stdout",
     "output_type": "stream",
     "text": [
      "For Iris\n"
     ]
    },
    {
     "data": {
      "image/png": "[encoded data removed]",
      "text/plain": [
       "<matplotlib.figure.Figure at 0x7fc123b1fb00>"
      ]
     },
     "metadata": {
      "needs_background": "light"
     },
     "output_type": "display_data"
    },
    {
     "name": "stdout",
     "output_type": "stream",
     "text": [
      "For Robo1\n"
     ]
    },
    {
     "data": {
      "image/png": "[encoded data removed]",
      "text/plain": [
       "<matplotlib.figure.Figure at 0x7fc1218fa278>"
      ]
     },
     "metadata": {
      "needs_background": "light"
     },
     "output_type": "display_data"
    },
    {
     "name": "stdout",
     "output_type": "stream",
     "text": [
      "For Robo2\n"
     ]
    },
    {
     "data": {
      "image/png": "[encoded data removed]",
      "text/plain": [
       "<matplotlib.figure.Figure at 0x7fc1218fa5c0>"
      ]
     },
     "metadata": {
      "needs_background": "light"
     },
     "output_type": "display_data"
    }
   ],
   "source": [
    "import numpy as np\n",
    "import pandas as pd\n",
    "import matplotlib.pyplot as plt\n",
    "from collections import Counter\n",
    "\n",
    "# def dist(row1, row2):\n",
    "#     distance = 0\n",
    "#     for i in range(0,len(row1)-1):\n",
    "#         distance += np.absolute(np.square(row1[i])-np.square(row2[i]))\n",
    "#     return distance\n",
    "\n",
    "def euclid(arr_train,arr_test):\n",
    "    result=0\n",
    "    for i in range(len(arr_train)-1):\n",
    "        temp = (arr_train[i]-arr_test[i])**2\n",
    "        result += temp\n",
    "    return np.sqrt(result)\n",
    "\n",
    "def manhattan(arr_train,arr_test):\n",
    "    result = 0 \n",
    "    for i in range(len(arr_train)-1):\n",
    "        temp = arr_train[i] - arr_test[i]\n",
    "        temp = np.abs(temp)\n",
    "        result+=temp\n",
    "    return result\n",
    "\n",
    "def chebyshev(arr_train,arr_test):\n",
    "    result = abs(arr_train[0]-arr_test[0])\n",
    "    for i in range(1,len(arr_train)-1):\n",
    "        temp = arr_train[i] - arr_test[i]\n",
    "        temp = abs(temp)\n",
    "        result=max(temp,result)\n",
    "    return result\n",
    "\n",
    "def predict(row, df, k, func):\n",
    "    pairs = []\n",
    "    for index,row_test in df.iterrows():\n",
    "        distance = func(row, row_test)\n",
    "        pair = (distance, row_test[len(row_test)-1])\n",
    "        pairs.append(pair)\n",
    "    pairs.sort()\n",
    "    firstk = []\n",
    "    for i in range(0,int(k)):\n",
    "        firstk.append(pairs[i][1])\n",
    "    d_mem_count = Counter(firstk)\n",
    "    # print(d_mem_count)\n",
    "    # Counter({'a': 2, 'b': 2, 'c': 1})\n",
    "    return list(d_mem_count.keys())[0]\n",
    "\n",
    "def KNN(df_train, df_test, k, func):\n",
    "    correct, wrong = 0,0\n",
    "    for index,row in df_test.iterrows():\n",
    "        prediction = predict(row, df_train, k, func)\n",
    "        # prediction = 1\n",
    "        # print(row[len(row)-1])\n",
    "        if prediction == row[len(row)-1]:\n",
    "            correct += 1\n",
    "        else:\n",
    "            wrong += 1\n",
    "#     print(\"correct = {} wrong = {}\".format(correct,wrong))\n",
    "#     accuracy = 0\n",
    "    accuracy = correct/(wrong+correct)\n",
    "#     print(\"Accuracy : %0.2f\" %(accuracy*100),\"%\")\n",
    "    return accuracy*100\n",
    "\n",
    "def main():\n",
    "    data_frame = pd.read_csv('Iris/Iris.csv', header=None)\n",
    "    data_frame.iloc[:,4] = pd.factorize(data_frame.iloc[:,4])[0]\n",
    "    # print(data_frame.head(20))\n",
    "    \n",
    "#     k = np.floor(np.sqrt(len(data_frame)))\n",
    "    df_train = data_frame.sample(frac = 0.2)\n",
    "    df_test = data_frame.drop(df_train.index)\n",
    "    k = range(1, 15, 1)\n",
    "\n",
    "    print(\"For Iris\")\n",
    "    AcE = [KNN(df_train, df_test, i, euclid) for i in k]\n",
    "    AcM = [KNN(df_train, df_test, i, manhattan) for i in k]\n",
    "    AcC = [KNN(df_train, df_test, i, chebyshev) for i in k]\n",
    "    plt.plot(k, AcE,label=\"Euclidean Distance\")\n",
    "    plt.plot(k, AcM,label=\"Manhatan\")\n",
    "    plt.plot(k, AcC,label=\"Chebyshev\")\n",
    "    plt.title('Accuracy vs K-Neighbours')\n",
    "    plt.grid(True)\n",
    "    plt.ylabel('Accuracy')\n",
    "    plt.xlabel('K')\n",
    "    plt.show()\n",
    "\n",
    "    data_frame = pd.read_csv('RobotDataset/Robot1', header=None, sep = ' ')\n",
    "    \n",
    "    data_frame = data_frame.drop(data_frame.columns[[0, 7, 8]], axis=1)\n",
    "    cols = data_frame.columns.tolist()\n",
    "    cols = [cols[-1]] + cols[1:5] + [cols[0]]\n",
    "    data_frame = data_frame[cols]\n",
    "    data_frame.columns = range(data_frame.shape[1])\n",
    "    # print(data_frame.head(20))\n",
    "\n",
    "#     k = np.floor(np.sqrt(len(data_frame)))\n",
    "    df_train = data_frame.sample(frac = 0.2)\n",
    "    df_test = data_frame.drop(df_train.index)\n",
    "\n",
    "    print(\"For Robo1\")\n",
    "    AcE = [KNN(df_train, df_test, i, euclid) for i in k]\n",
    "    AcM = [KNN(df_train, df_test, i, manhattan) for i in k]\n",
    "    AcC = [KNN(df_train, df_test, i, chebyshev) for i in k]\n",
    "    plt.plot(k, AcE,label=\"Euclidean Distance\")\n",
    "    plt.plot(k, AcM,label=\"Manhatan\")\n",
    "    plt.plot(k, AcC,label=\"Chebyshev\")\n",
    "    plt.title('Accuracy vs K-Neighbours')\n",
    "    plt.grid(True)\n",
    "    plt.ylabel('Accuracy')\n",
    "    plt.xlabel('K')\n",
    "    plt.show()\n",
    "\n",
    "    data_frame = pd.read_csv('RobotDataset/Robot2', header=None, sep = ' ')\n",
    "\n",
    "\n",
    "    data_frame = data_frame.drop(data_frame.columns[[0, 8]], axis=1)\n",
    "    cols = data_frame.columns.tolist()\n",
    "    cols = [cols[-1]] + cols[1:6] + [cols[0]]\n",
    "    data_frame = data_frame[cols]\n",
    "    data_frame.columns = range(data_frame.shape[1])\n",
    "    # print(data_frame.head(40))\n",
    "\n",
    "#     k = np.floor(np.sqrt(len(data_frame)))\n",
    "    df_test = data_frame.sample(frac = 0.2)\n",
    "    df_train = data_frame.drop(df_test.index)\n",
    "\n",
    "    print(\"For Robo2\")\n",
    "    AcE = [KNN(df_train, df_test, i, euclid) for i in k]\n",
    "    AcM = [KNN(df_train, df_test, i, manhattan) for i in k]\n",
    "    AcC = [KNN(df_train, df_test, i, chebyshev) for i in k]\n",
    "    plt.plot(k, AcE,label=\"Euclidean Distance\")\n",
    "    plt.plot(k, AcM,label=\"Manhatan\")\n",
    "    plt.plot(k, AcC,label=\"Chebyshev\")\n",
    "    plt.title('Accuracy vs K-Neighbours')\n",
    "    plt.grid(True)\n",
    "    plt.ylabel('Accuracy')\n",
    "    plt.xlabel('K')\n",
    "    plt.show()\n",
    "\n",
    "\n",
    "if __name__ == '__main__':\n",
    "    main()"
   ]
  },
  {
   "cell_type": "code",
   "execution_count": null,
   "metadata": {},
   "outputs": [],
   "source": []
  }
 ],
 "metadata": {
  "kernelspec": {
   "display_name": "Python 3",
   "language": "python",
   "name": "python3"
  },
  "language_info": {
   "codemirror_mode": {
    "name": "ipython",
    "version": 3
   },
   "file_extension": ".py",
   "mimetype": "text/x-python",
   "name": "python",
   "nbconvert_exporter": "python",
   "pygments_lexer": "ipython3",
   "version": "3.6.7"
  }
 },
 "nbformat": 4,
 "nbformat_minor": 2
}
