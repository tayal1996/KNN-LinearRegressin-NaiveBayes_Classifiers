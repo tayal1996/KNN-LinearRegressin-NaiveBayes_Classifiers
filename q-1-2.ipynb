{
 "cells": [
  {
   "cell_type": "code",
   "execution_count": 4,
   "metadata": {},
   "outputs": [
    {
     "name": "stdout",
     "output_type": "stream",
     "text": [
      "correct = 801 wrong = 99\n",
      "Accuracy : 89.00 %\n"
     ]
    }
   ],
   "source": [
    "import numpy as np\n",
    "import pandas as pd\n",
    "\n",
    "def categorical_prob(i, r, df):\n",
    "\tl = len(df)\n",
    "\tdf = df[df[i] == r]\n",
    "\treturn len(df)/l\n",
    "\n",
    "def normpdf(x, mean, sd):\n",
    "    var = float(sd)**2\n",
    "    denom = (2*np.pi*var)**.5\n",
    "    num = np.exp(-(float(x)-float(mean))**2/(2*var))\n",
    "    return num/denom\n",
    "\n",
    "def predict(row, df_train_zero, df_train_one, mean_zero, sd_zero, mean_one, sd_one):\n",
    "\tprob_yes = 1\n",
    "\tprob_no = 1\n",
    "\tfor i in range(1,len(row)):\n",
    "\t\tif i <= 5:\t#numerical\n",
    "\t\t\tprob_yes *= normpdf(row[i],mean_one[i],sd_one[i])\n",
    "\t\t\tprob_no *= normpdf(row[i],mean_zero[i],sd_zero[i])\n",
    "\t\telse:\t\t#categorical\n",
    "\t\t\ttemp_yes = categorical_prob(i,row[i],df_train_one)\n",
    "\t\t\ttemp_no = categorical_prob(i,row[i],df_train_zero)\n",
    "\t\t\tif temp_no == temp_yes == 0:\n",
    "\t\t\t\tcontinue\n",
    "\t\t\tprob_yes *= temp_yes\n",
    "\t\t\tprob_no *= temp_no\n",
    "\n",
    "\tif prob_yes > prob_no:\n",
    "\t\treturn 1\n",
    "\telse:\n",
    "\t\treturn 0\n",
    "\n",
    "def calculate_mean_and_sd(df_train):\n",
    "\treturn np.mean(df_train),np.std(df_train)\n",
    "\n",
    "def naive_bayes_calculator(df_train, df_test):\n",
    "\tdf_train_one = df_train[df_train[0] == 1]\n",
    "\tdf_train_zero = df_train[df_train[0] == 0]\n",
    "\tmean_zero,sd_zero = calculate_mean_and_sd(df_train_zero.iloc[:,1:6])\n",
    "\tmean_one,sd_one = calculate_mean_and_sd(df_train_one.iloc[:,1:6])\n",
    "\n",
    "\tcorrect, wrong = 0,0\n",
    "\tfor index,row in df_test.iterrows():\n",
    "\t\tprediction = predict(row, df_train_zero, df_train_one, mean_zero, sd_zero, mean_one, sd_one)\n",
    "\t\tif prediction == row[0]:\n",
    "\t\t\tcorrect += 1\n",
    "\t\telse:\n",
    "\t\t\twrong += 1\n",
    "\tprint(\"correct = {} wrong = {}\".format(correct,wrong))\n",
    "\taccuracy = 0\n",
    "\taccuracy = correct/(wrong+correct)\n",
    "\tprint(\"Accuracy : %0.2f\" %(accuracy*100),\"%\")\n",
    "\n",
    "def main():\n",
    "\tdata_frame = pd.read_csv('LoanDataset/data.csv', header=None)\n",
    "\tdata_frame = data_frame.drop(data_frame.columns[[0,]], axis=1)\n",
    "\tdata_frame = data_frame.drop(data_frame.index[0])\n",
    "\tcols = data_frame.columns.tolist()\n",
    "\tcols = [cols[8]] + cols[0:3] + [cols[5]] + [cols[7]] + cols[3:5] + [cols[6]] + cols[9:13]\n",
    "\tdata_frame = data_frame[cols]\n",
    "\tdata_frame.columns = range(data_frame.shape[1])\n",
    "\t# print(data_frame.head(20))\n",
    "\t\n",
    "\tdf_test = data_frame.sample(frac = 0.2)\n",
    "\tdf_train = data_frame.drop(df_test.index)\n",
    "\n",
    "\tnaive_bayes_calculator(df_train, df_test)\n",
    "\t# print(list(mean_zero))\n",
    "\n",
    "if __name__ == '__main__':\n",
    "\tmain()"
   ]
  }
 ],
 "metadata": {
  "kernelspec": {
   "display_name": "Python 3",
   "language": "python",
   "name": "python3"
  },
  "language_info": {
   "codemirror_mode": {
    "name": "ipython",
    "version": 3
   },
   "file_extension": ".py",
   "mimetype": "text/x-python",
   "name": "python",
   "nbconvert_exporter": "python",
   "pygments_lexer": "ipython3",
   "version": "3.6.7"
  }
 },
 "nbformat": 4,
 "nbformat_minor": 2
}
