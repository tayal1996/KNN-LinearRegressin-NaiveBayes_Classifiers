{
 "cells": [
  {
   "cell_type": "code",
   "execution_count": 6,
   "metadata": {},
   "outputs": [
    {
     "name": "stdout",
     "output_type": "stream",
     "text": [
      "MSE: 0.003314\n",
      "MAE: 0.042271\n",
      "MPE: 0.102500\n"
     ]
    }
   ],
   "source": [
    "import numpy as np\n",
    "import pandas as pd\n",
    "\n",
    "def calculate_beta(x, y):\n",
    "    transpose_x = x.T\n",
    "    inverse_x =  np.linalg.inv(np.dot(transpose_x,x))\n",
    "    beta = np.dot(np.dot(inverse_x,transpose_x),y)\n",
    "    return beta\n",
    "\n",
    "def x_and_y_finder(df):\n",
    "    y = df[['Chance of Admit ']]\n",
    "    df[['Chance of Admit ']] = 1\n",
    "    df.columns = df.columns.str.replace('Chance of Admit ','Constant')\n",
    "    return df,y\n",
    "\n",
    "def main():\n",
    "    data_frame = pd.read_csv('AdmissionDataset/data.csv')\n",
    "    data_frame = data_frame.drop(['Serial No.'], axis=1)\n",
    "    df_test = data_frame.sample(frac = 0.2)\n",
    "    df_train = data_frame.drop(df_test.index)\n",
    "    # print(data_frame.head(20))\n",
    "    x_df_train,y_df_train = x_and_y_finder(df_train)\n",
    "    beta = calculate_beta(x_df_train,y_df_train)\n",
    "    x_df_test,y_df_test = x_and_y_finder(df_test)\n",
    "    y_predict = np.dot(x_df_test,beta)\n",
    "    y1 = y_predict.tolist()\n",
    "    y2 = y_df_test['Chance of Admit '].values.tolist()\n",
    "    # print(len(y2),len(y1))\n",
    "    # print(y_df_test)\n",
    "    sum = 0\n",
    "    for i in range(len(y2)):\n",
    "        sum += (y1[i][0]-y2[i])**2\n",
    "    MSE = sum/len(y2)\n",
    "    print(\"MSE: %f\" %MSE)\n",
    "\n",
    "    sum = 0\n",
    "    for i in range(len(y2)):\n",
    "        sum += np.abs(y1[i][0]-y2[i])\n",
    "    MAE = sum/len(y2)\n",
    "    print(\"MAE: %f\" %MAE)\n",
    "\n",
    "\n",
    "    sum = 0\n",
    "    for i in range(len(y2)):\n",
    "        sum += (y1[i][0]-y2[i])\n",
    "    MPE = np.abs(sum*100/len(y2))\n",
    "    print(\"MPE: %f\" %MPE)\n",
    "    \n",
    "if __name__ == '__main__':\n",
    "\tmain()"
   ]
  },
  {
   "cell_type": "code",
   "execution_count": null,
   "metadata": {},
   "outputs": [],
   "source": []
  }
 ],
 "metadata": {
  "kernelspec": {
   "display_name": "Python 3",
   "language": "python",
   "name": "python3"
  },
  "language_info": {
   "codemirror_mode": {
    "name": "ipython",
    "version": 3
   },
   "file_extension": ".py",
   "mimetype": "text/x-python",
   "name": "python",
   "nbconvert_exporter": "python",
   "pygments_lexer": "ipython3",
   "version": "3.6.7"
  }
 },
 "nbformat": 4,
 "nbformat_minor": 2
}
